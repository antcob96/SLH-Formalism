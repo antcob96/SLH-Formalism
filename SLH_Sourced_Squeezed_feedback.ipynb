{
 "cells": [
  {
   "cell_type": "markdown",
   "metadata": {},
   "source": [
    "# Sourced squeezed light feedback system"
   ]
  },
  {
   "cell_type": "markdown",
   "metadata": {},
   "source": [
    "## Basic SLH Rules\n",
    "Here are some of the basic rules of quantum input-output theory:\n",
    "\n",
    "For a series product: \n",
    "$$\n",
    "G_T(S_T,L_t,H_T) = G_2(S_2,L_2,H_2)  \\triangleleft G_1(S_1,L_1,H_1) = \\Bigg( S_1 S_2,L_2 + S_2 L_1, H_1 + H_2 + \\frac{1}{2j}(L_2^\\dagger S_2 L_1 - L_1^\\dagger S_2^\\dagger L_2) \\Bigg)\n",
    "$$\n",
    "\n",
    "For a concatenation product (parallel connection):\n",
    "$$\n",
    "G_T(S_T,L_t,H_T) = G_1(S_1,L_1,H_1) \\oplus G_2(S_2,L_2,H_2) = \\Bigg( \\begin{pmatrix} S_1 & 0 \\\\ 0 & S_2 \\end{pmatrix}, \\begin{bmatrix} L_1 \\\\ L_2 \\end{bmatrix}, H_1 + H_2  \\Bigg)\n",
    "$$\n",
    "Note: $\\oplus$ is a subsitute for the concatenation product symbol.\n",
    "\n",
    "For a direct coupling product (parallel conection with a direct couplnig connection): \n",
    "$$\n",
    "G_T(S_T,L_t,H_T) = G_1(S_1,L_1,H_1) \\oplus G_2(S_2,L_2,H_2) = \\Bigg( \\begin{pmatrix} S_1 & 0 \\\\ 0 & S_2 \\end{pmatrix}, \\begin{bmatrix} L_1 \\\\ L_2 \\end{bmatrix}, H_1 + H_2 + H_{\\text{int}} \\Bigg)\n",
    "$$\n",
    "Note: $H_{\\text{int}}$ is the interaction hamiltonian. \n",
    "\n",
    "The $\\hbar$ is consider a natural unit ($\\hbar = 1$). \n"
   ]
  },
  {
   "cell_type": "markdown",
   "metadata": {},
   "source": [
    "## Feedback Rules"
   ]
  },
  {
   "cell_type": "markdown",
   "metadata": {},
   "source": [
    "A feedback rule is a special case of a series product. This rule specifies an output port x into inport y, which essentially reduces the component. First you make a concatenation product for respective unconnected components. This is what we'll define as G(S,L,H).\n",
    "If the output of port x goes into input of port y, then the following procedure is followed:\n",
    "$$\n",
    "G_{x \\rightarrow y}(S_{red},L_{red},H_{red}) = \\Bigg( [S_{\\bar{x} \\bar{y}}+S_{\\bar{x}y}(I-S_{xy})^{-1}S_{x\\bar{y}}], [L_{\\bar{x}}++S_{\\bar{x}y}(I-S_{xy})^{-1}L_x], [H + \\frac{1}{2i}(L^\\dagger S_{:,y}(I-S_{xy})^{-1}L_x-L^\\dagger_x(I-S^\\dagger_{xy})^{-1}S^\\dagger_{:,y}L] \\Bigg)\n",
    "$$\n",
    "where\n",
    "$S_{xy}$ is the (x,y) component of the S matrix, $S_{\\bar{x}\\bar{y}}$ is S without the xth row and yth column, $S_{:,y}$ is the entire yth column of S, $S_{\\bar{x}y}$ is the yth column of S without the xth row,  and $S_{x\\bar{y}}$ is the xth row of S without the yth column, and $L_{\\bar{x}}$ is L without the xth row."
   ]
  },
  {
   "cell_type": "markdown",
   "metadata": {},
   "source": [
    "## Total triple SLH component"
   ]
  },
  {
   "cell_type": "markdown",
   "metadata": {},
   "source": [
    "Here is the total connection of a two-level atom sourced feedback system of a Optical Parametric Oscillator and beamsplitter. The example is derived in the SLH in the overleaf document. \n",
    "$$\n",
    "G_T(S_T,L_T,H_T) = \\Bigg( 1, (l\\sqrt{\\kappa}a+\\lambda(t)\\sigma_-), j\\epsilon (a^\\dagger a^\\dagger - aa) + \\frac{l\\sqrt{\\kappa}}{2j} (a^\\dagger \\lambda(t) \\sigma_- - \\lambda(t)^*\\sigma_- a) \\Bigg),\n",
    "$$\n",
    "where\n",
    "$$\n",
    "l = \\frac{\\eta}{1+\\sqrt{1-\\eta^2}}; \\lambda(t) = (\\frac{\\Omega^2}{2\\pi})^{\\frac{1}{4}}\\frac{e^{\\frac{-\\Omega^2}{4}(t-t_c)^2}}{\\sqrt{w(t)}}.\n",
    "$$\n",
    "w(t) = $\\frac{1}{2}(erfc\\{\\frac{\\sqrt{2}\\Omega (t_c - t)}{2}\\} + 1)$, $\\eta$ is the transmission coefficient."
   ]
  },
  {
   "cell_type": "code",
   "execution_count": null,
   "metadata": {},
   "outputs": [],
   "source": [
    "# Import packages\n",
    "import numpy as np\n",
    "import scipy as sp\n",
    "import matplotlib as mpl\n",
    "import matplotlib.pyplot as plt\n",
    "from qutip import *"
   ]
  },
  {
   "cell_type": "code",
   "execution_count": null,
   "metadata": {},
   "outputs": [],
   "source": [
    "eta = 1/2\n",
    "t_c = 0\n",
    "kappa = (1)/(2*np.pi)\n",
    "Omega = 0.5*kappa\n",
    "epsilon = 1\n",
    "\n",
    "l = eta/(1+np.sqrt(1-eta**2))\n",
    "\n",
    "N_f = 25\n",
    "\n",
    "sigma = Qobj([[0,1],[0,0]])\n",
    "\n",
    "N_t = 10000\n",
    "t_span = np.linspace(0,100,N_t)\n"
   ]
  },
  {
   "cell_type": "code",
   "execution_count": null,
   "metadata": {},
   "outputs": [],
   "source": [
    "rho0 = tensor(basis(N_f,0),basis(2,1))\n",
    "# Define bosonic operator\n",
    "a = tensor(destroy(N_f), qeye(2))\n",
    "adag = a.dag()\n",
    "# Define atomic transition operator\n",
    "sigma_m = tensor(qeye(N_f),sigma)\n",
    "sigma_p = sigma_m.dag()"
   ]
  },
  {
   "cell_type": "code",
   "execution_count": null,
   "metadata": {},
   "outputs": [],
   "source": [
    "def lamb(t,args):\n",
    "    O = args['O']\n",
    "    tc = args['tc']\n",
    "    result = (O**2/(2*np.pi))**(1/4)*(np.exp(-(O**2/4)*(t-tc)**2))/(np.sqrt((1/2)*(sp.special.erfc((O*(tc-t))/np.sqrt(2))+1)))\n",
    "    return result"
   ]
  },
  {
   "cell_type": "code",
   "execution_count": null,
   "metadata": {},
   "outputs": [],
   "source": [
    "def lambc(t,args):\n",
    "    O = args['O']\n",
    "    tc = args['tc']\n",
    "    lam = (O**2/(2*np.pi))**(1/4)*(np.exp(-(O**2/4)*(t-tc)**2))/(np.sqrt((1/2)*(sp.special.erfc((O*(tc-t))/np.sqrt(2))+1)))\n",
    "    return lam.conj()\n",
    "     "
   ]
  },
  {
   "cell_type": "code",
   "execution_count": null,
   "metadata": {
    "scrolled": true
   },
   "outputs": [],
   "source": [
    "L0 = l*np.sqrt(kappa)*a\n",
    "L1 = sigma_m\n"
   ]
  },
  {
   "cell_type": "code",
   "execution_count": null,
   "metadata": {},
   "outputs": [],
   "source": [
    "H0 = 1j*epsilon*(adag*adag-a*a)\n",
    "H1 = ((l*np.sqrt(kappa))/(2j))*adag*sigma_m\n",
    "H2 = -((l*np.sqrt(kappa))/(2j))*sigma_p*a"
   ]
  },
  {
   "cell_type": "code",
   "execution_count": null,
   "metadata": {},
   "outputs": [],
   "source": [
    "H = [H0, [H1,lamb], [H2,lambc]]\n",
    "Lops = [L0,[L1,lamb]]"
   ]
  },
  {
   "cell_type": "code",
   "execution_count": null,
   "metadata": {},
   "outputs": [],
   "source": [
    "args = {'tc': t_c, 'O': Omega, 'll': l, 'k': kappa, 'b': a, 'bdag': adag, \\\n",
    "        'o_m': sigma_m, 'o_p': sigma_p}"
   ]
  },
  {
   "cell_type": "code",
   "execution_count": null,
   "metadata": {
    "scrolled": false
   },
   "outputs": [],
   "source": [
    "rho = mesolve(H, rho0,t_span,Lops, e_ops = [adag*a,sigma_p*sigma_m], args=args)"
   ]
  },
  {
   "cell_type": "code",
   "execution_count": null,
   "metadata": {},
   "outputs": [],
   "source": [
    "num_phot = rho.expect[0]\n",
    "atomic_state = rho.expect[1]\n",
    "plt.figure(figsize = (10,10))\n",
    "plt.plot(t_span,num_phot, label = 'Number of photons')\n",
    "plt.plot(t_span,atomic_state, '-k',label = 'Atomic state')\n",
    "plt.xlabel(\"time\")\n",
    "plt.ylabel(\"<$a^\\dagger$a>, <$\\sigma_-^\\dagger \\sigma_-$>\")\n",
    "plt.title('Squeezed Light and Atomic state')\n",
    "#plt.axhline(0)\n",
    "#plt.xlim(0,25)\n",
    "#plt.ylim(0,1)\n",
    "plt.legend()\n",
    "plt.show()"
   ]
  }
 ],
 "metadata": {
  "kernelspec": {
   "display_name": "Python 3",
   "language": "python",
   "name": "python3"
  },
  "language_info": {
   "codemirror_mode": {
    "name": "ipython",
    "version": 3
   },
   "file_extension": ".py",
   "mimetype": "text/x-python",
   "name": "python",
   "nbconvert_exporter": "python",
   "pygments_lexer": "ipython3",
   "version": "3.7.3"
  }
 },
 "nbformat": 4,
 "nbformat_minor": 4
}
